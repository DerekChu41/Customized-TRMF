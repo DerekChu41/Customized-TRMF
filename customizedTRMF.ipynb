{
 "cells": [
  {
   "cell_type": "code",
   "execution_count": 1,
   "metadata": {},
   "outputs": [
    {
     "name": "stderr",
     "output_type": "stream",
     "text": [
      "/Library/Frameworks/Python.framework/Versions/3.7/lib/python3.7/site-packages/sklearn/externals/joblib/__init__.py:15: DeprecationWarning: sklearn.externals.joblib is deprecated in 0.21 and will be removed in 0.23. Please import this functionality directly from joblib, which can be installed with: pip install joblib. If this warning is raised when loading pickled models, you may need to re-serialize those models with scikit-learn 0.21+.\n",
      "  warnings.warn(msg, category=DeprecationWarning)\n"
     ]
    }
   ],
   "source": [
    "\n",
    "from __future__ import print_function\n",
    "import torch, h5py\n",
    "import numpy as np\n",
    "from scipy.io import loadmat\n",
    "from torch.nn.utils import weight_norm\n",
    "\n",
    "import torch.nn as nn\n",
    "import torch.optim as optim\n",
    "import numpy as np\n",
    "\n",
    "from torch.autograd import Variable\n",
    "\n",
    "import torch.nn.functional as F\n",
    "import customized_trmf_class as ctf\n",
    "\n",
    "import skopt\n",
    "# !pip install scikit-optimize if  necessary\n",
    "from skopt import gbrt_minimize, gp_minimize\n",
    "from skopt.utils import use_named_args\n",
    "from skopt.space import Real, Categorical, Integer  \n"
   ]
  },
  {
   "cell_type": "markdown",
   "metadata": {},
   "source": [
    "# Predict future"
   ]
  },
  {
   "cell_type": "code",
   "execution_count": 2,
   "metadata": {},
   "outputs": [],
   "source": [
    "np.random.seed(111)\n",
    "torch.cuda.manual_seed(111)\n",
    "torch.manual_seed(111)\n",
    "\n",
    "import pandas as pd\n",
    "\n",
    "# Ymat = np.load(\"/Users/hzhu/Downloads/Data/electricity.npy\")\n",
    "\n",
    "df = pd.read_csv(\"/Users/hzhu/Downloads/Data/postal_avails.csv\",sep='\\t')\n",
    "width = len(df.flight_date.unique())\n",
    "height = len(df.postal_code.unique())\n",
    "Ymat = df.avails.values.reshape(width,height).T"
   ]
  },
  {
   "cell_type": "code",
   "execution_count": 3,
   "metadata": {},
   "outputs": [
    {
     "name": "stdout",
     "output_type": "stream",
     "text": [
      "training factors\n",
      "training tau model\n"
     ]
    },
    {
     "name": "stderr",
     "output_type": "stream",
     "text": [
      "/Library/Frameworks/Python.framework/Versions/3.7/lib/python3.7/site-packages/torch/nn/modules/loss.py:88: UserWarning: Using a target size (torch.Size([64, 1])) that is different to the input size (torch.Size([64])). This will likely lead to incorrect results due to broadcasting. Please ensure they have the same size.\n",
      "  return F.l1_loss(input, target, reduction=self.reduction)\n"
     ]
    },
    {
     "data": {
      "text/plain": [
       "0.18996917429066482"
      ]
     },
     "execution_count": 3,
     "metadata": {},
     "output_type": "execute_result"
    }
   ],
   "source": [
    "\n",
    "rank = 64\n",
    "size = 70\n",
    "leads = 14\n",
    "alt_iter = 2\n",
    "epochs_factors = 1\n",
    "epochs_tau = 1\n",
    "lr_factors = 0.001\n",
    "lr_tau = 0.001\n",
    "reg_factors = 0.001\n",
    "batch = 10\n",
    "model = 'Net'\n",
    "\n",
    "\n",
    "trmf = ctf.CusomizedTRMF(Ymat,rank,size,leads,alt_iter,epochs_factors,epochs_tau,lr_factors,lr_tau,reg_factors,batch,model)\n",
    "F,X,model,l_F,l_X,l_X_temporal,l_tau = trmf.train()\n",
    "predictions = trmf.predict_futures()\n",
    "predictions = trmf.transfer2original(predictions.detach().numpy())\n",
    "test = trmf.transfer2original(trmf.test)\n",
    "median,mape_matrix = trmf.evaluation(predictions,test)\n",
    "median\n",
    "\n"
   ]
  },
  {
   "cell_type": "markdown",
   "metadata": {},
   "source": [
    "# impute missing"
   ]
  },
  {
   "cell_type": "code",
   "execution_count": 4,
   "metadata": {},
   "outputs": [],
   "source": [
    "\n",
    "df = pd.read_csv(\"/Users/hzhu/Downloads/Data/postal_avails.csv\",sep='\\t')\n",
    "width = len(df.flight_date.unique())\n",
    "height = len(df.postal_code.unique())\n",
    "Ymat = df.avails.values.reshape(width,height).T"
   ]
  },
  {
   "cell_type": "code",
   "execution_count": 5,
   "metadata": {},
   "outputs": [
    {
     "name": "stdout",
     "output_type": "stream",
     "text": [
      "training factors\n",
      "training tau model\n"
     ]
    }
   ],
   "source": [
    "\n",
    "rank = 64\n",
    "size = 70\n",
    "leads = 0\n",
    "alt_iter = 2\n",
    "epochs_factors = 1\n",
    "epochs_tau = 1\n",
    "lr_factors = 0.001\n",
    "lr_tau = 0.001\n",
    "reg_factors = 0.001\n",
    "batch = 10\n",
    "model = 'Net'\n",
    "\n",
    "trmf = ctf.CusomizedTRMF(Ymat,rank,size,leads,alt_iter,epochs_factors,epochs_tau,lr_factors,lr_tau,reg_factors,batch,model)\n",
    "F,X,model,l_F,l_X,l_X_temporal,l_tau = trmf.train()\n"
   ]
  },
  {
   "cell_type": "code",
   "execution_count": 6,
   "metadata": {},
   "outputs": [],
   "source": [
    "data = trmf.impute_missings()"
   ]
  },
  {
   "cell_type": "code",
   "execution_count": 7,
   "metadata": {},
   "outputs": [
    {
     "data": {
      "text/plain": [
       "array([[  279.99994096,    75.99999736,   172.99998197, ...,\n",
       "          508.99995001,   522.00002894,   368.99996333],\n",
       "       [  179.00000042,   416.99994565,   421.99996296, ...,\n",
       "          350.9999309 ,    94.00000302,   132.99999554],\n",
       "       [42888.9989549 , 45222.99975282, 40147.9993104 , ...,\n",
       "        47514.99826977, 56508.99852978, 42691.00013903],\n",
       "       ...,\n",
       "       [  310.99992939,   209.00002619,   401.99995969, ...,\n",
       "          459.99995377,   322.99994257,   261.9999452 ],\n",
       "       [ 1863.99998923,  1642.00000196,  1780.00005314, ...,\n",
       "         1129.99997503,  1681.99986741,  2135.00006937],\n",
       "       [ 2931.99994028,  3672.99960811,  2840.99965363, ...,\n",
       "         2622.9996671 ,  3173.00003462,  2942.00009908]])"
      ]
     },
     "execution_count": 7,
     "metadata": {},
     "output_type": "execute_result"
    }
   ],
   "source": [
    "data"
   ]
  },
  {
   "cell_type": "markdown",
   "metadata": {},
   "source": [
    "# Bayesian Optimization"
   ]
  },
  {
   "cell_type": "code",
   "execution_count": 75,
   "metadata": {},
   "outputs": [],
   "source": [
    "rank = Integer(low=50, high=500, name='rank')\n",
    "size = Integer(low=7, high=210, name='size')\n",
    "alt_iter = Integer(low=2, high=50, name='alt_iter')\n",
    "epochs_factors = Integer(low=1, high=10, name='epochs_factors')\n",
    "epochs_tau = Integer(low=1, high=10, name='epochs_tau')\n",
    "lr_factors = Real(low=1e-4,high=1e-1,name=\"lr_factors\")\n",
    "lr_tau = Real(low=1e-4,high=1e-1,name=\"lr_tau\")\n",
    "reg_factors = Real(low=1e-4,high=1e-1,name=\"reg_factors\")\n",
    "\n",
    "dimensions = [\n",
    "    rank,\n",
    "    size,\n",
    "    alt_iter,\n",
    "    epochs_factors,\n",
    "    epochs_tau,\n",
    "    lr_factors,\n",
    "    lr_tau,\n",
    "    reg_factors,\n",
    "]"
   ]
  },
  {
   "cell_type": "code",
   "execution_count": 76,
   "metadata": {},
   "outputs": [
    {
     "name": "stdout",
     "output_type": "stream",
     "text": [
      "Iteration No: 1 started. Evaluating function at provided point.\n",
      "training factors\n",
      "training tau model\n",
      "Iteration No: 1 ended. Evaluation done at provided point.\n",
      "Time taken: 2.2613\n",
      "Function value obtained: 0.2049\n",
      "Current minimum: 0.2049\n",
      "Iteration No: 2 started. Evaluating function at random point.\n",
      "training factors\n",
      "training tau model\n",
      "training factors\n"
     ]
    },
    {
     "name": "stderr",
     "output_type": "stream",
     "text": [
      "/Library/Frameworks/Python.framework/Versions/3.7/lib/python3.7/site-packages/torch/nn/modules/loss.py:88: UserWarning: Using a target size (torch.Size([151, 1])) that is different to the input size (torch.Size([151])). This will likely lead to incorrect results due to broadcasting. Please ensure they have the same size.\n",
      "  return F.l1_loss(input, target, reduction=self.reduction)\n"
     ]
    },
    {
     "name": "stdout",
     "output_type": "stream",
     "text": [
      "training tau model\n",
      "training factors\n",
      "training tau model\n",
      "training factors\n",
      "training tau model\n",
      "training factors\n",
      "training tau model\n",
      "training factors\n",
      "training tau model\n",
      "training factors\n",
      "training tau model\n",
      "training factors\n",
      "training tau model\n",
      "training factors\n",
      "training tau model\n",
      "training factors\n",
      "training tau model\n",
      "training factors\n",
      "training tau model\n",
      "training factors\n",
      "training tau model\n",
      "training factors\n",
      "training tau model\n",
      "training factors\n",
      "training tau model\n",
      "training factors\n",
      "training tau model\n",
      "training factors\n",
      "training tau model\n",
      "training factors\n",
      "training tau model\n",
      "training factors\n",
      "training tau model\n",
      "training factors\n",
      "Iteration No: 2 ended. Evaluation done at random point.\n",
      "Time taken: 16.4873\n",
      "Function value obtained: 96.9214\n",
      "Current minimum: 0.2049\n",
      "Iteration No: 3 started. Evaluating function at random point.\n",
      "training factors\n",
      "training tau model\n",
      "training factors\n"
     ]
    },
    {
     "name": "stderr",
     "output_type": "stream",
     "text": [
      "/Library/Frameworks/Python.framework/Versions/3.7/lib/python3.7/site-packages/torch/nn/modules/loss.py:88: UserWarning: Using a target size (torch.Size([387, 1])) that is different to the input size (torch.Size([387])). This will likely lead to incorrect results due to broadcasting. Please ensure they have the same size.\n",
      "  return F.l1_loss(input, target, reduction=self.reduction)\n"
     ]
    },
    {
     "name": "stdout",
     "output_type": "stream",
     "text": [
      "training tau model\n",
      "training factors\n",
      "training tau model\n",
      "training factors\n",
      "training tau model\n",
      "training factors\n",
      "training tau model\n",
      "training factors\n",
      "training tau model\n",
      "training factors\n",
      "training tau model\n",
      "training factors\n",
      "training tau model\n",
      "training factors\n",
      "training tau model\n",
      "training factors\n",
      "training tau model\n",
      "training factors\n",
      "training tau model\n",
      "training factors\n",
      "training tau model\n",
      "training factors\n",
      "training tau model\n",
      "training factors\n",
      "training tau model\n",
      "training factors\n",
      "training tau model\n",
      "training factors\n",
      "training tau model\n",
      "training factors\n",
      "training tau model\n",
      "training factors\n",
      "training tau model\n",
      "training factors\n",
      "training tau model\n",
      "training factors\n",
      "training tau model\n",
      "training factors\n",
      "training tau model\n",
      "training factors\n",
      "training tau model\n",
      "Iteration No: 3 ended. Evaluation done at random point.\n",
      "Time taken: 27.4094\n",
      "Function value obtained: 152.2625\n",
      "Current minimum: 0.2049\n",
      "Iteration No: 4 started. Evaluating function at random point.\n",
      "training factors\n",
      "training tau model\n",
      "training factors\n"
     ]
    },
    {
     "name": "stderr",
     "output_type": "stream",
     "text": [
      "/Library/Frameworks/Python.framework/Versions/3.7/lib/python3.7/site-packages/torch/nn/modules/loss.py:88: UserWarning: Using a target size (torch.Size([179, 1])) that is different to the input size (torch.Size([179])). This will likely lead to incorrect results due to broadcasting. Please ensure they have the same size.\n",
      "  return F.l1_loss(input, target, reduction=self.reduction)\n"
     ]
    },
    {
     "name": "stdout",
     "output_type": "stream",
     "text": [
      "training tau model\n",
      "training factors\n",
      "training tau model\n",
      "training factors\n",
      "training tau model\n",
      "training factors\n",
      "training tau model\n",
      "training factors\n",
      "training tau model\n",
      "training factors\n",
      "training tau model\n",
      "training factors\n",
      "training tau model\n",
      "training factors\n",
      "training tau model\n",
      "training factors\n",
      "training tau model\n",
      "training factors\n",
      "training tau model\n",
      "training factors\n",
      "training tau model\n",
      "training factors\n",
      "training tau model\n",
      "training factors\n",
      "training tau model\n",
      "training factors\n",
      "training tau model\n",
      "training factors\n",
      "training tau model\n",
      "training factors\n",
      "training tau model\n",
      "training factors\n",
      "training tau model\n",
      "training factors\n",
      "training tau model\n",
      "training factors\n",
      "training tau model\n",
      "training factors\n",
      "training tau model\n",
      "Iteration No: 4 ended. Evaluation done at random point.\n",
      "Time taken: 31.1535\n",
      "Function value obtained: 1.5875\n",
      "Current minimum: 0.2049\n",
      "Iteration No: 5 started. Evaluating function at random point.\n",
      "training factors\n",
      "training tau model\n",
      "training factors\n",
      "training tau model\n",
      "training factors\n",
      "training tau model\n",
      "training factors\n",
      "training tau model\n",
      "training factors\n",
      "training tau model\n",
      "training factors\n",
      "training tau model\n",
      "training factors\n",
      "training tau model\n",
      "training factors\n",
      "training tau model\n",
      "training factors\n",
      "training tau model\n",
      "training factors\n",
      "training tau model\n",
      "training factors\n",
      "training tau model\n",
      "training factors\n",
      "training tau model\n",
      "training factors\n",
      "training tau model\n",
      "training factors\n",
      "training tau model\n",
      "training factors\n",
      "Iteration No: 5 ended. Evaluation done at random point.\n",
      "Time taken: 24.0005\n",
      "Function value obtained: 190.9013\n",
      "Current minimum: 0.2049\n",
      "Iteration No: 6 started. Evaluating function at random point.\n",
      "training factors\n",
      "training tau model\n",
      "training factors\n"
     ]
    },
    {
     "name": "stderr",
     "output_type": "stream",
     "text": [
      "/Library/Frameworks/Python.framework/Versions/3.7/lib/python3.7/site-packages/torch/nn/modules/loss.py:88: UserWarning: Using a target size (torch.Size([302, 1])) that is different to the input size (torch.Size([302])). This will likely lead to incorrect results due to broadcasting. Please ensure they have the same size.\n",
      "  return F.l1_loss(input, target, reduction=self.reduction)\n"
     ]
    },
    {
     "name": "stdout",
     "output_type": "stream",
     "text": [
      "training tau model\n",
      "training factors\n",
      "training tau model\n",
      "training factors\n",
      "training tau model\n",
      "training factors\n",
      "training tau model\n",
      "training factors\n",
      "training tau model\n",
      "training factors\n",
      "training tau model\n",
      "training factors\n",
      "training tau model\n",
      "training factors\n",
      "training tau model\n",
      "training factors\n",
      "training tau model\n",
      "training factors\n",
      "training tau model\n",
      "training factors\n",
      "training tau model\n",
      "training factors\n",
      "training tau model\n",
      "training factors\n",
      "training tau model\n",
      "training factors\n",
      "training tau model\n",
      "training factors\n",
      "training tau model\n",
      "training factors\n",
      "training tau model\n",
      "training factors\n",
      "training tau model\n",
      "training factors\n",
      "training tau model\n",
      "training factors\n",
      "training tau model\n",
      "training factors\n",
      "training tau model\n",
      "training factors\n",
      "training tau model\n",
      "Iteration No: 6 ended. Evaluation done at random point.\n",
      "Time taken: 49.9396\n",
      "Function value obtained: 1.9302\n",
      "Current minimum: 0.2049\n",
      "Iteration No: 7 started. Evaluating function at random point.\n",
      "training factors\n",
      "training tau model\n",
      "training factors\n"
     ]
    },
    {
     "name": "stderr",
     "output_type": "stream",
     "text": [
      "/Library/Frameworks/Python.framework/Versions/3.7/lib/python3.7/site-packages/torch/nn/modules/loss.py:88: UserWarning: Using a target size (torch.Size([161, 1])) that is different to the input size (torch.Size([161])). This will likely lead to incorrect results due to broadcasting. Please ensure they have the same size.\n",
      "  return F.l1_loss(input, target, reduction=self.reduction)\n"
     ]
    },
    {
     "name": "stdout",
     "output_type": "stream",
     "text": [
      "training tau model\n",
      "training factors\n",
      "training tau model\n",
      "training factors\n",
      "training tau model\n",
      "training factors\n",
      "training tau model\n",
      "training factors\n",
      "training tau model\n",
      "training factors\n",
      "training tau model\n",
      "training factors\n",
      "training tau model\n",
      "training factors\n",
      "training tau model\n",
      "training factors\n",
      "training tau model\n",
      "training factors\n",
      "training tau model\n",
      "training factors\n",
      "training tau model\n",
      "training factors\n",
      "training tau model\n",
      "training factors\n",
      "training tau model\n",
      "training factors\n",
      "training tau model\n",
      "training factors\n",
      "training tau model\n",
      "training factors\n",
      "training tau model\n",
      "training factors\n",
      "training tau model\n",
      "training factors\n",
      "training tau model\n",
      "training factors\n",
      "training tau model\n",
      "training factors\n",
      "training tau model\n",
      "training factors\n",
      "training tau model\n",
      "training factors\n",
      "training tau model\n",
      "training factors\n",
      "Iteration No: 7 ended. Evaluation done at random point.\n",
      "Time taken: 30.1858\n",
      "Function value obtained: 3.9243\n",
      "Current minimum: 0.2049\n",
      "Iteration No: 8 started. Evaluating function at random point.\n",
      "training factors\n",
      "training tau model\n",
      "training factors\n"
     ]
    },
    {
     "name": "stderr",
     "output_type": "stream",
     "text": [
      "/Library/Frameworks/Python.framework/Versions/3.7/lib/python3.7/site-packages/torch/nn/modules/loss.py:88: UserWarning: Using a target size (torch.Size([275, 1])) that is different to the input size (torch.Size([275])). This will likely lead to incorrect results due to broadcasting. Please ensure they have the same size.\n",
      "  return F.l1_loss(input, target, reduction=self.reduction)\n"
     ]
    },
    {
     "name": "stdout",
     "output_type": "stream",
     "text": [
      "training tau model\n",
      "training factors\n",
      "training tau model\n",
      "training factors\n",
      "training tau model\n",
      "training factors\n",
      "training tau model\n",
      "training factors\n",
      "training tau model\n",
      "training factors\n",
      "training tau model\n",
      "training factors\n",
      "Iteration No: 8 ended. Evaluation done at random point.\n",
      "Time taken: 23.3203\n",
      "Function value obtained: 5.5920\n",
      "Current minimum: 0.2049\n",
      "Iteration No: 9 started. Evaluating function at random point.\n",
      "training factors\n",
      "training tau model\n",
      "training factors\n"
     ]
    },
    {
     "name": "stderr",
     "output_type": "stream",
     "text": [
      "/Library/Frameworks/Python.framework/Versions/3.7/lib/python3.7/site-packages/torch/nn/modules/loss.py:88: UserWarning: Using a target size (torch.Size([392, 1])) that is different to the input size (torch.Size([392])). This will likely lead to incorrect results due to broadcasting. Please ensure they have the same size.\n",
      "  return F.l1_loss(input, target, reduction=self.reduction)\n"
     ]
    },
    {
     "name": "stdout",
     "output_type": "stream",
     "text": [
      "training tau model\n",
      "training factors\n",
      "training tau model\n",
      "training factors\n",
      "training tau model\n",
      "training factors\n",
      "training tau model\n",
      "training factors\n",
      "training tau model\n",
      "training factors\n",
      "training tau model\n",
      "training factors\n",
      "training tau model\n",
      "training factors\n",
      "Iteration No: 9 ended. Evaluation done at random point.\n",
      "Time taken: 32.3731\n",
      "Function value obtained: 18.9785\n",
      "Current minimum: 0.2049\n",
      "Iteration No: 10 started. Evaluating function at random point.\n",
      "training factors\n",
      "training tau model\n",
      "training factors\n"
     ]
    },
    {
     "name": "stderr",
     "output_type": "stream",
     "text": [
      "/Library/Frameworks/Python.framework/Versions/3.7/lib/python3.7/site-packages/torch/nn/modules/loss.py:88: UserWarning: Using a target size (torch.Size([233, 1])) that is different to the input size (torch.Size([233])). This will likely lead to incorrect results due to broadcasting. Please ensure they have the same size.\n",
      "  return F.l1_loss(input, target, reduction=self.reduction)\n"
     ]
    },
    {
     "name": "stdout",
     "output_type": "stream",
     "text": [
      "training tau model\n",
      "training factors\n",
      "training tau model\n",
      "training factors\n",
      "training tau model\n",
      "training factors\n",
      "training tau model\n",
      "Iteration No: 10 ended. Evaluation done at random point.\n",
      "Time taken: 6.3114\n",
      "Function value obtained: 43.6154\n",
      "Current minimum: 0.2049\n",
      "Iteration No: 11 started. Evaluating function at random point.\n",
      "training factors\n",
      "training tau model\n",
      "training factors\n"
     ]
    },
    {
     "name": "stderr",
     "output_type": "stream",
     "text": [
      "/Library/Frameworks/Python.framework/Versions/3.7/lib/python3.7/site-packages/torch/nn/modules/loss.py:88: UserWarning: Using a target size (torch.Size([235, 1])) that is different to the input size (torch.Size([235])). This will likely lead to incorrect results due to broadcasting. Please ensure they have the same size.\n",
      "  return F.l1_loss(input, target, reduction=self.reduction)\n"
     ]
    },
    {
     "name": "stdout",
     "output_type": "stream",
     "text": [
      "training tau model\n",
      "training factors\n",
      "training tau model\n",
      "training factors\n",
      "training tau model\n",
      "training factors\n",
      "Iteration No: 11 ended. Evaluation done at random point.\n",
      "Time taken: 11.3669\n",
      "Function value obtained: 1.3999\n",
      "Current minimum: 0.2049\n",
      "Iteration No: 12 started. Searching for the next optimal point.\n",
      "training factors\n",
      "training tau model\n"
     ]
    },
    {
     "name": "stderr",
     "output_type": "stream",
     "text": [
      "/Library/Frameworks/Python.framework/Versions/3.7/lib/python3.7/site-packages/torch/nn/modules/loss.py:88: UserWarning: Using a target size (torch.Size([402, 1])) that is different to the input size (torch.Size([402])). This will likely lead to incorrect results due to broadcasting. Please ensure they have the same size.\n",
      "  return F.l1_loss(input, target, reduction=self.reduction)\n"
     ]
    },
    {
     "name": "stdout",
     "output_type": "stream",
     "text": [
      "training factors\n",
      "training tau model\n",
      "training factors\n",
      "training tau model\n",
      "training factors\n",
      "training tau model\n",
      "training factors\n",
      "training tau model\n",
      "training factors\n",
      "training tau model\n",
      "training factors\n",
      "training tau model\n",
      "training factors\n",
      "training tau model\n",
      "training factors\n",
      "Iteration No: 12 ended. Search finished for the next optimal point.\n",
      "Time taken: 41.5988\n",
      "Function value obtained: 2.1342\n",
      "Current minimum: 0.2049\n",
      "Iteration No: 13 started. Searching for the next optimal point.\n",
      "training factors\n",
      "training tau model\n",
      "training factors\n"
     ]
    },
    {
     "name": "stderr",
     "output_type": "stream",
     "text": [
      "/Library/Frameworks/Python.framework/Versions/3.7/lib/python3.7/site-packages/torch/nn/modules/loss.py:88: UserWarning: Using a target size (torch.Size([270, 1])) that is different to the input size (torch.Size([270])). This will likely lead to incorrect results due to broadcasting. Please ensure they have the same size.\n",
      "  return F.l1_loss(input, target, reduction=self.reduction)\n"
     ]
    },
    {
     "name": "stdout",
     "output_type": "stream",
     "text": [
      "training tau model\n",
      "training factors\n",
      "training tau model\n",
      "training factors\n",
      "training tau model\n",
      "training factors\n",
      "training tau model\n",
      "training factors\n",
      "training tau model\n",
      "training factors\n",
      "training tau model\n",
      "training factors\n",
      "training tau model\n",
      "training factors\n",
      "training tau model\n",
      "training factors\n",
      "training tau model\n",
      "training factors\n",
      "training tau model\n",
      "training factors\n",
      "training tau model\n",
      "training factors\n",
      "training tau model\n",
      "training factors\n",
      "training tau model\n",
      "training factors\n",
      "training tau model\n",
      "training factors\n",
      "training tau model\n",
      "training factors\n",
      "training tau model\n",
      "training factors\n",
      "training tau model\n",
      "training factors\n",
      "training tau model\n",
      "training factors\n",
      "training tau model\n",
      "training factors\n",
      "training tau model\n",
      "Iteration No: 13 ended. Search finished for the next optimal point.\n",
      "Time taken: 40.0164\n",
      "Function value obtained: 1.5071\n",
      "Current minimum: 0.2049\n",
      "Iteration No: 14 started. Searching for the next optimal point.\n",
      "training factors\n",
      "training tau model\n",
      "training factors\n"
     ]
    },
    {
     "name": "stderr",
     "output_type": "stream",
     "text": [
      "/Library/Frameworks/Python.framework/Versions/3.7/lib/python3.7/site-packages/torch/nn/modules/loss.py:88: UserWarning: Using a target size (torch.Size([255, 1])) that is different to the input size (torch.Size([255])). This will likely lead to incorrect results due to broadcasting. Please ensure they have the same size.\n",
      "  return F.l1_loss(input, target, reduction=self.reduction)\n"
     ]
    },
    {
     "name": "stdout",
     "output_type": "stream",
     "text": [
      "training tau model\n",
      "training factors\n",
      "training tau model\n",
      "training factors\n",
      "training tau model\n",
      "training factors\n",
      "training tau model\n",
      "training factors\n",
      "training tau model\n",
      "training factors\n",
      "training tau model\n",
      "training factors\n",
      "training tau model\n",
      "training factors\n",
      "training tau model\n",
      "training factors\n",
      "training tau model\n",
      "training factors\n",
      "training tau model\n",
      "training factors\n",
      "training tau model\n",
      "training factors\n",
      "training tau model\n",
      "training factors\n",
      "training tau model\n",
      "training factors\n",
      "training tau model\n",
      "training factors\n",
      "training tau model\n",
      "training factors\n",
      "training tau model\n",
      "training factors\n",
      "training tau model\n",
      "training factors\n",
      "Iteration No: 14 ended. Search finished for the next optimal point.\n",
      "Time taken: 40.4537\n",
      "Function value obtained: 12.7052\n",
      "Current minimum: 0.2049\n",
      "Iteration No: 15 started. Searching for the next optimal point.\n",
      "training factors\n",
      "training tau model\n",
      "training factors\n"
     ]
    },
    {
     "name": "stderr",
     "output_type": "stream",
     "text": [
      "/Library/Frameworks/Python.framework/Versions/3.7/lib/python3.7/site-packages/torch/nn/modules/loss.py:88: UserWarning: Using a target size (torch.Size([216, 1])) that is different to the input size (torch.Size([216])). This will likely lead to incorrect results due to broadcasting. Please ensure they have the same size.\n",
      "  return F.l1_loss(input, target, reduction=self.reduction)\n"
     ]
    },
    {
     "name": "stdout",
     "output_type": "stream",
     "text": [
      "training tau model\n",
      "training factors\n",
      "training tau model\n",
      "training factors\n",
      "training tau model\n",
      "Iteration No: 15 ended. Search finished for the next optimal point.\n",
      "Time taken: 9.2764\n",
      "Function value obtained: 18.1482\n",
      "Current minimum: 0.2049\n",
      "Iteration No: 16 started. Searching for the next optimal point.\n",
      "training factors\n",
      "training tau model\n",
      "training factors\n"
     ]
    },
    {
     "name": "stderr",
     "output_type": "stream",
     "text": [
      "/Library/Frameworks/Python.framework/Versions/3.7/lib/python3.7/site-packages/torch/nn/modules/loss.py:88: UserWarning: Using a target size (torch.Size([249, 1])) that is different to the input size (torch.Size([249])). This will likely lead to incorrect results due to broadcasting. Please ensure they have the same size.\n",
      "  return F.l1_loss(input, target, reduction=self.reduction)\n"
     ]
    },
    {
     "name": "stdout",
     "output_type": "stream",
     "text": [
      "training tau model\n",
      "training factors\n",
      "training tau model\n",
      "training factors\n",
      "training tau model\n",
      "training factors\n",
      "training tau model\n",
      "training factors\n",
      "training tau model\n",
      "training factors\n",
      "training tau model\n",
      "training factors\n",
      "training tau model\n",
      "training factors\n",
      "training tau model\n",
      "training factors\n",
      "training tau model\n",
      "training factors\n",
      "training tau model\n",
      "training factors\n",
      "training tau model\n",
      "training factors\n",
      "training tau model\n",
      "training factors\n",
      "training tau model\n",
      "training factors\n",
      "training tau model\n",
      "training factors\n",
      "training tau model\n",
      "training factors\n",
      "training tau model\n",
      "training factors\n",
      "training tau model\n",
      "training factors\n",
      "training tau model\n",
      "training factors\n",
      "training tau model\n",
      "training factors\n",
      "training tau model\n",
      "training factors\n",
      "training tau model\n",
      "Iteration No: 16 ended. Search finished for the next optimal point.\n",
      "Time taken: 37.6150\n",
      "Function value obtained: 3.0788\n",
      "Current minimum: 0.2049\n",
      "Iteration No: 17 started. Searching for the next optimal point.\n",
      "training factors\n",
      "training tau model\n",
      "training factors\n"
     ]
    },
    {
     "name": "stderr",
     "output_type": "stream",
     "text": [
      "/Library/Frameworks/Python.framework/Versions/3.7/lib/python3.7/site-packages/torch/nn/modules/loss.py:88: UserWarning: Using a target size (torch.Size([371, 1])) that is different to the input size (torch.Size([371])). This will likely lead to incorrect results due to broadcasting. Please ensure they have the same size.\n",
      "  return F.l1_loss(input, target, reduction=self.reduction)\n"
     ]
    },
    {
     "name": "stdout",
     "output_type": "stream",
     "text": [
      "training tau model\n",
      "training factors\n",
      "training tau model\n",
      "training factors\n",
      "training tau model\n",
      "Iteration No: 17 ended. Search finished for the next optimal point.\n",
      "Time taken: 21.8496\n",
      "Function value obtained: 5.5742\n",
      "Current minimum: 0.2049\n",
      "Iteration No: 18 started. Searching for the next optimal point.\n",
      "training factors\n",
      "training tau model\n",
      "training factors\n"
     ]
    },
    {
     "name": "stderr",
     "output_type": "stream",
     "text": [
      "/Library/Frameworks/Python.framework/Versions/3.7/lib/python3.7/site-packages/torch/nn/modules/loss.py:88: UserWarning: Using a target size (torch.Size([171, 1])) that is different to the input size (torch.Size([171])). This will likely lead to incorrect results due to broadcasting. Please ensure they have the same size.\n",
      "  return F.l1_loss(input, target, reduction=self.reduction)\n"
     ]
    },
    {
     "name": "stdout",
     "output_type": "stream",
     "text": [
      "training tau model\n",
      "training factors\n",
      "training tau model\n",
      "training factors\n",
      "training tau model\n",
      "training factors\n",
      "training tau model\n",
      "training factors\n",
      "training tau model\n",
      "training factors\n",
      "training tau model\n",
      "training factors\n",
      "training tau model\n",
      "training factors\n",
      "training tau model\n",
      "training factors\n",
      "training tau model\n",
      "training factors\n",
      "training tau model\n",
      "training factors\n",
      "training tau model\n",
      "training factors\n",
      "training tau model\n",
      "training factors\n",
      "training tau model\n",
      "training factors\n",
      "training tau model\n",
      "training factors\n",
      "training tau model\n",
      "training factors\n",
      "training tau model\n",
      "training factors\n",
      "training tau model\n",
      "training factors\n",
      "training tau model\n",
      "training factors\n",
      "training tau model\n",
      "training factors\n",
      "training tau model\n",
      "Iteration No: 18 ended. Search finished for the next optimal point.\n",
      "Time taken: 32.4823\n",
      "Function value obtained: 5.8283\n",
      "Current minimum: 0.2049\n",
      "Iteration No: 19 started. Searching for the next optimal point.\n",
      "training factors\n",
      "training tau model\n",
      "training factors\n"
     ]
    },
    {
     "name": "stderr",
     "output_type": "stream",
     "text": [
      "/Library/Frameworks/Python.framework/Versions/3.7/lib/python3.7/site-packages/torch/nn/modules/loss.py:88: UserWarning: Using a target size (torch.Size([168, 1])) that is different to the input size (torch.Size([168])). This will likely lead to incorrect results due to broadcasting. Please ensure they have the same size.\n",
      "  return F.l1_loss(input, target, reduction=self.reduction)\n"
     ]
    },
    {
     "name": "stdout",
     "output_type": "stream",
     "text": [
      "training tau model\n",
      "training factors\n",
      "training tau model\n",
      "training factors\n",
      "training tau model\n",
      "training factors\n",
      "training tau model\n",
      "training factors\n",
      "training tau model\n",
      "training factors\n",
      "training tau model\n",
      "training factors\n",
      "training tau model\n",
      "training factors\n",
      "training tau model\n",
      "training factors\n",
      "training tau model\n",
      "training factors\n",
      "training tau model\n",
      "training factors\n",
      "training tau model\n",
      "training factors\n",
      "training tau model\n",
      "training factors\n",
      "training tau model\n",
      "training factors\n",
      "training tau model\n",
      "training factors\n",
      "training tau model\n",
      "training factors\n",
      "training tau model\n",
      "training factors\n",
      "training tau model\n",
      "training factors\n",
      "training tau model\n",
      "training factors\n",
      "training tau model\n",
      "training factors\n",
      "training tau model\n",
      "training factors\n",
      "training tau model\n",
      "training factors\n",
      "Iteration No: 19 ended. Search finished for the next optimal point.\n",
      "Time taken: 36.2529\n",
      "Function value obtained: 4.1473\n",
      "Current minimum: 0.2049\n",
      "Iteration No: 20 started. Searching for the next optimal point.\n",
      "training factors\n",
      "training tau model\n",
      "training factors\n"
     ]
    },
    {
     "name": "stderr",
     "output_type": "stream",
     "text": [
      "/Library/Frameworks/Python.framework/Versions/3.7/lib/python3.7/site-packages/torch/nn/modules/loss.py:88: UserWarning: Using a target size (torch.Size([217, 1])) that is different to the input size (torch.Size([217])). This will likely lead to incorrect results due to broadcasting. Please ensure they have the same size.\n",
      "  return F.l1_loss(input, target, reduction=self.reduction)\n"
     ]
    },
    {
     "name": "stdout",
     "output_type": "stream",
     "text": [
      "training tau model\n",
      "training factors\n",
      "training tau model\n",
      "training factors\n",
      "Iteration No: 20 ended. Search finished for the next optimal point.\n",
      "Time taken: 10.8894\n",
      "Function value obtained: 4.1490\n",
      "Current minimum: 0.2049\n",
      "Iteration No: 21 started. Searching for the next optimal point.\n",
      "training factors\n",
      "training tau model\n",
      "training factors\n"
     ]
    },
    {
     "name": "stderr",
     "output_type": "stream",
     "text": [
      "/Library/Frameworks/Python.framework/Versions/3.7/lib/python3.7/site-packages/torch/nn/modules/loss.py:88: UserWarning: Using a target size (torch.Size([220, 1])) that is different to the input size (torch.Size([220])). This will likely lead to incorrect results due to broadcasting. Please ensure they have the same size.\n",
      "  return F.l1_loss(input, target, reduction=self.reduction)\n"
     ]
    },
    {
     "name": "stdout",
     "output_type": "stream",
     "text": [
      "training tau model\n",
      "training factors\n",
      "training tau model\n",
      "training factors\n",
      "training tau model\n",
      "training factors\n",
      "training tau model\n",
      "training factors\n",
      "training tau model\n",
      "Iteration No: 21 ended. Search finished for the next optimal point.\n",
      "Time taken: 13.0662\n",
      "Function value obtained: 1.2082\n",
      "Current minimum: 0.2049\n",
      "Iteration No: 22 started. Searching for the next optimal point.\n",
      "training factors\n",
      "training tau model\n",
      "training factors\n"
     ]
    },
    {
     "name": "stderr",
     "output_type": "stream",
     "text": [
      "/Library/Frameworks/Python.framework/Versions/3.7/lib/python3.7/site-packages/torch/nn/modules/loss.py:88: UserWarning: Using a target size (torch.Size([219, 1])) that is different to the input size (torch.Size([219])). This will likely lead to incorrect results due to broadcasting. Please ensure they have the same size.\n",
      "  return F.l1_loss(input, target, reduction=self.reduction)\n"
     ]
    },
    {
     "name": "stdout",
     "output_type": "stream",
     "text": [
      "training tau model\n",
      "training factors\n",
      "training tau model\n",
      "training factors\n",
      "training tau model\n",
      "Iteration No: 22 ended. Search finished for the next optimal point.\n",
      "Time taken: 9.5381\n",
      "Function value obtained: 0.7636\n",
      "Current minimum: 0.2049\n",
      "Iteration No: 23 started. Searching for the next optimal point.\n",
      "training factors\n",
      "training tau model\n"
     ]
    },
    {
     "name": "stderr",
     "output_type": "stream",
     "text": [
      "/Library/Frameworks/Python.framework/Versions/3.7/lib/python3.7/site-packages/torch/nn/modules/loss.py:88: UserWarning: Using a target size (torch.Size([60, 1])) that is different to the input size (torch.Size([60])). This will likely lead to incorrect results due to broadcasting. Please ensure they have the same size.\n",
      "  return F.l1_loss(input, target, reduction=self.reduction)\n"
     ]
    },
    {
     "name": "stdout",
     "output_type": "stream",
     "text": [
      "Iteration No: 23 ended. Search finished for the next optimal point.\n",
      "Time taken: 5.2626\n",
      "Function value obtained: 1.5494\n",
      "Current minimum: 0.2049\n",
      "Iteration No: 24 started. Searching for the next optimal point.\n",
      "training factors\n",
      "training tau model\n"
     ]
    },
    {
     "name": "stderr",
     "output_type": "stream",
     "text": [
      "/Library/Frameworks/Python.framework/Versions/3.7/lib/python3.7/site-packages/torch/nn/modules/loss.py:88: UserWarning: Using a target size (torch.Size([71, 1])) that is different to the input size (torch.Size([71])). This will likely lead to incorrect results due to broadcasting. Please ensure they have the same size.\n",
      "  return F.l1_loss(input, target, reduction=self.reduction)\n"
     ]
    },
    {
     "name": "stdout",
     "output_type": "stream",
     "text": [
      "Iteration No: 24 ended. Search finished for the next optimal point.\n",
      "Time taken: 4.9865\n",
      "Function value obtained: 0.8054\n",
      "Current minimum: 0.2049\n",
      "Iteration No: 25 started. Searching for the next optimal point.\n",
      "training factors\n",
      "training tau model\n",
      "training factors\n"
     ]
    },
    {
     "name": "stderr",
     "output_type": "stream",
     "text": [
      "/Library/Frameworks/Python.framework/Versions/3.7/lib/python3.7/site-packages/torch/nn/modules/loss.py:88: UserWarning: Using a target size (torch.Size([247, 1])) that is different to the input size (torch.Size([247])). This will likely lead to incorrect results due to broadcasting. Please ensure they have the same size.\n",
      "  return F.l1_loss(input, target, reduction=self.reduction)\n"
     ]
    },
    {
     "name": "stdout",
     "output_type": "stream",
     "text": [
      "training tau model\n",
      "training factors\n",
      "training tau model\n",
      "training factors\n",
      "training tau model\n",
      "training factors\n",
      "training tau model\n",
      "Iteration No: 25 ended. Search finished for the next optimal point.\n",
      "Time taken: 17.0197\n",
      "Function value obtained: 14.3855\n",
      "Current minimum: 0.2049\n",
      "Iteration No: 26 started. Searching for the next optimal point.\n",
      "training factors\n",
      "training tau model\n",
      "training factors\n"
     ]
    },
    {
     "name": "stderr",
     "output_type": "stream",
     "text": [
      "/Library/Frameworks/Python.framework/Versions/3.7/lib/python3.7/site-packages/torch/nn/modules/loss.py:88: UserWarning: Using a target size (torch.Size([303, 1])) that is different to the input size (torch.Size([303])). This will likely lead to incorrect results due to broadcasting. Please ensure they have the same size.\n",
      "  return F.l1_loss(input, target, reduction=self.reduction)\n"
     ]
    },
    {
     "name": "stdout",
     "output_type": "stream",
     "text": [
      "training tau model\n",
      "training factors\n",
      "training tau model\n",
      "training factors\n",
      "training tau model\n",
      "training factors\n",
      "training tau model\n",
      "training factors\n",
      "training tau model\n",
      "Iteration No: 26 ended. Search finished for the next optimal point.\n",
      "Time taken: 21.8109\n",
      "Function value obtained: 119.1604\n",
      "Current minimum: 0.2049\n",
      "Iteration No: 27 started. Searching for the next optimal point.\n",
      "training factors\n",
      "training tau model\n",
      "training factors\n"
     ]
    },
    {
     "name": "stderr",
     "output_type": "stream",
     "text": [
      "/Library/Frameworks/Python.framework/Versions/3.7/lib/python3.7/site-packages/torch/nn/modules/loss.py:88: UserWarning: Using a target size (torch.Size([187, 1])) that is different to the input size (torch.Size([187])). This will likely lead to incorrect results due to broadcasting. Please ensure they have the same size.\n",
      "  return F.l1_loss(input, target, reduction=self.reduction)\n"
     ]
    },
    {
     "name": "stdout",
     "output_type": "stream",
     "text": [
      "training tau model\n",
      "training factors\n",
      "training tau model\n",
      "training factors\n",
      "training tau model\n",
      "training factors\n",
      "Iteration No: 27 ended. Search finished for the next optimal point.\n",
      "Time taken: 10.0697\n",
      "Function value obtained: 32.6374\n",
      "Current minimum: 0.2049\n",
      "Iteration No: 28 started. Searching for the next optimal point.\n",
      "training factors\n",
      "training tau model\n",
      "training factors\n"
     ]
    },
    {
     "name": "stderr",
     "output_type": "stream",
     "text": [
      "/Library/Frameworks/Python.framework/Versions/3.7/lib/python3.7/site-packages/torch/nn/modules/loss.py:88: UserWarning: Using a target size (torch.Size([84, 1])) that is different to the input size (torch.Size([84])). This will likely lead to incorrect results due to broadcasting. Please ensure they have the same size.\n",
      "  return F.l1_loss(input, target, reduction=self.reduction)\n"
     ]
    },
    {
     "name": "stdout",
     "output_type": "stream",
     "text": [
      "training tau model\n",
      "training factors\n",
      "training tau model\n",
      "training factors\n",
      "training tau model\n",
      "training factors\n",
      "training tau model\n",
      "training factors\n",
      "training tau model\n",
      "training factors\n",
      "training tau model\n",
      "training factors\n",
      "training tau model\n",
      "training factors\n",
      "training tau model\n",
      "training factors\n",
      "training tau model\n",
      "training factors\n",
      "training tau model\n",
      "training factors\n",
      "training tau model\n",
      "training factors\n",
      "training tau model\n",
      "training factors\n",
      "training tau model\n",
      "training factors\n",
      "training tau model\n",
      "Iteration No: 28 ended. Search finished for the next optimal point.\n",
      "Time taken: 12.3250\n",
      "Function value obtained: 4.7653\n",
      "Current minimum: 0.2049\n",
      "Iteration No: 29 started. Searching for the next optimal point.\n",
      "training factors\n",
      "training tau model\n"
     ]
    },
    {
     "name": "stderr",
     "output_type": "stream",
     "text": [
      "/Library/Frameworks/Python.framework/Versions/3.7/lib/python3.7/site-packages/torch/nn/modules/loss.py:88: UserWarning: Using a target size (torch.Size([282, 1])) that is different to the input size (torch.Size([282])). This will likely lead to incorrect results due to broadcasting. Please ensure they have the same size.\n",
      "  return F.l1_loss(input, target, reduction=self.reduction)\n"
     ]
    },
    {
     "name": "stdout",
     "output_type": "stream",
     "text": [
      "training factors\n",
      "training tau model\n",
      "training factors\n",
      "training tau model\n",
      "training factors\n",
      "training tau model\n",
      "training factors\n",
      "training tau model\n",
      "training factors\n",
      "training tau model\n",
      "training factors\n",
      "training tau model\n",
      "training factors\n",
      "training tau model\n",
      "training factors\n",
      "training tau model\n",
      "training factors\n",
      "training tau model\n",
      "training factors\n",
      "training tau model\n",
      "training factors\n",
      "Iteration No: 29 ended. Search finished for the next optimal point.\n",
      "Time taken: 38.6371\n",
      "Function value obtained: 0.2772\n",
      "Current minimum: 0.2049\n",
      "Iteration No: 30 started. Searching for the next optimal point.\n",
      "training factors\n",
      "training tau model\n",
      "training factors\n"
     ]
    },
    {
     "name": "stderr",
     "output_type": "stream",
     "text": [
      "/Library/Frameworks/Python.framework/Versions/3.7/lib/python3.7/site-packages/torch/nn/modules/loss.py:88: UserWarning: Using a target size (torch.Size([317, 1])) that is different to the input size (torch.Size([317])). This will likely lead to incorrect results due to broadcasting. Please ensure they have the same size.\n",
      "  return F.l1_loss(input, target, reduction=self.reduction)\n"
     ]
    },
    {
     "name": "stdout",
     "output_type": "stream",
     "text": [
      "training tau model\n",
      "training factors\n",
      "training tau model\n",
      "training factors\n",
      "training tau model\n",
      "training factors\n",
      "training tau model\n",
      "Iteration No: 30 ended. Search finished for the next optimal point.\n",
      "Time taken: 13.6038\n",
      "Function value obtained: 387.6365\n",
      "Current minimum: 0.2049\n"
     ]
    }
   ],
   "source": [
    "def fitness(dimensions):\n",
    "#     Ymat = np.load(\"/Users/hzhu/MyCode/DeepGLO/datasets/electricity.npy\")\n",
    "    df = pd.read_csv(\"/Users/hzhu/Downloads/Data/postal_avails.csv\",sep='\\t')\n",
    "    \n",
    "    width = len(df.flight_date.unique())\n",
    "    height = len(df.postal_code.unique())\n",
    "    Ymat = df.avails.values.reshape(width,height).T\n",
    "    \n",
    "    trmf = ctf.CusomizedTRMF(Ymat,dimensions[0],dimensions[1],14,dimensions[2],dimensions[3],\n",
    "                             dimensions[4],dimensions[5],dimensions[6],dimensions[7],10,'Net')\n",
    "    F,X,model,l_F,l_X,l_X_temporal,l_tau = trmf.train()\n",
    "    predictions = trmf.predict_futures()\n",
    "    predictions = trmf.transfer2original(predictions.detach().numpy())\n",
    "    test = trmf.transfer2original(trmf.test)\n",
    "    median,mape_matrix = trmf.evaluation(predictions,test)\n",
    "    \n",
    "    return round(median,4)\n",
    "    \n",
    "default_parameters = [64,70,2,1,1,0.001,0.001,0.001]\n",
    "gp_result = gp_minimize(func=fitness,dimensions=dimensions,verbose=True,n_jobs=4,n_calls=30,x0=default_parameters)\n",
    "params = []\n",
    "params.append(gp_result.x)\n",
    "# a = gp_result.x\n",
    "# with open(\"param.txt\", \"w\") as f:\n",
    "#     for s in a:\n",
    "#         f.write(str(s) +\"\\n\")"
   ]
  },
  {
   "cell_type": "code",
   "execution_count": null,
   "metadata": {},
   "outputs": [],
   "source": []
  },
  {
   "cell_type": "code",
   "execution_count": null,
   "metadata": {},
   "outputs": [],
   "source": []
  },
  {
   "cell_type": "code",
   "execution_count": null,
   "metadata": {},
   "outputs": [],
   "source": []
  },
  {
   "cell_type": "code",
   "execution_count": null,
   "metadata": {},
   "outputs": [],
   "source": []
  },
  {
   "cell_type": "code",
   "execution_count": null,
   "metadata": {},
   "outputs": [],
   "source": []
  }
 ],
 "metadata": {
  "kernelspec": {
   "display_name": "Python 3",
   "language": "python",
   "name": "python3"
  },
  "language_info": {
   "codemirror_mode": {
    "name": "ipython",
    "version": 3
   },
   "file_extension": ".py",
   "mimetype": "text/x-python",
   "name": "python",
   "nbconvert_exporter": "python",
   "pygments_lexer": "ipython3",
   "version": "3.7.4"
  }
 },
 "nbformat": 4,
 "nbformat_minor": 2
}
